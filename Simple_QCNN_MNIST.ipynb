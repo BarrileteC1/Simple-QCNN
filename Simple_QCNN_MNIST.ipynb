{
 "cells": [
  {
   "cell_type": "code",
   "execution_count": null,
   "metadata": {},
   "outputs": [],
   "source": []
  },
  {
   "cell_type": "code",
   "execution_count": 1,
   "metadata": {
    "colab": {},
    "colab_type": "code",
    "executionInfo": {
     "elapsed": 150307,
     "status": "ok",
     "timestamp": 1594969572300,
     "user": {
      "displayName": "오승혁",
      "photoUrl": "",
      "userId": "17576348803238599032"
     },
     "user_tz": -540
    },
    "id": "v443mtS5EPCl"
   },
   "outputs": [],
   "source": [
    "import tensorflow as tf\n",
    "import tensorflow_quantum as tfq\n",
    "\n",
    "from tensorflow.keras import datasets, layers, models\n",
    "\n",
    "import cirq\n",
    "import sympy\n",
    "import numpy as np\n",
    "import collections\n",
    "\n",
    "# visualization tools\n",
    "%matplotlib inline\n",
    "import matplotlib as mpl\n",
    "import matplotlib.pyplot as plt\n",
    "from cirq.contrib.svg import SVGCircuit\n",
    "\n",
    "import os\n",
    "os.environ[\"PATH\"] += os.pathsep + 'C:/Program Files (x86)/Graphviz2.38/bin/'"
   ]
  },
  {
   "cell_type": "code",
   "execution_count": 11,
   "metadata": {
    "colab": {
     "base_uri": "https://localhost:8080/",
     "height": 89
    },
    "colab_type": "code",
    "executionInfo": {
     "elapsed": 150776,
     "status": "ok",
     "timestamp": 1594969572784,
     "user": {
      "displayName": "오승혁",
      "photoUrl": "",
      "userId": "17576348803238599032"
     },
     "user_tz": -540
    },
    "id": "73KuuBfoEPCp",
    "outputId": "6bd9a172-b35d-4489-ebec-ae6725324686"
   },
   "outputs": [
    {
     "name": "stdout",
     "output_type": "stream",
     "text": [
      "Number of original training examples: 60000\n",
      "Number of original test examples: 10000\n"
     ]
    }
   ],
   "source": [
    "(x_train, y_train), (x_test, y_test) = tf.keras.datasets.mnist.load_data()\n",
    "\n",
    "# Rescale the images from [0,255] to the [0.0,1.0] range.\n",
    "x_train, x_test = x_train[..., np.newaxis]/255.0, x_test[..., np.newaxis]/255.0\n",
    "\n",
    "print(\"Number of original training examples:\", len(x_train))\n",
    "print(\"Number of original test examples:\", len(x_test))"
   ]
  },
  {
   "cell_type": "code",
   "execution_count": 12,
   "metadata": {
    "colab": {},
    "colab_type": "code",
    "executionInfo": {
     "elapsed": 3294,
     "status": "ok",
     "timestamp": 1594969576122,
     "user": {
      "displayName": "오승혁",
      "photoUrl": "",
      "userId": "17576348803238599032"
     },
     "user_tz": -540
    },
    "id": "Hupa2OMlEPCs"
   },
   "outputs": [],
   "source": [
    "x_train= tf.cast(x_train, tf.float32)\n",
    "x_test=tf.cast(x_test, tf.float32)\n",
    "\n",
    "x_train = tf.image.resize(x_train[:], (10,10)).numpy()\n",
    "x_test = tf.image.resize(x_test[:], (10,10)).numpy()\n",
    "\n",
    "y_train = y_train[:]\n",
    "y_test = y_test[:]"
   ]
  },
  {
   "cell_type": "code",
   "execution_count": 13,
   "metadata": {
    "colab": {
     "base_uri": "https://localhost:8080/",
     "height": 301
    },
    "colab_type": "code",
    "executionInfo": {
     "elapsed": 3232,
     "status": "ok",
     "timestamp": 1594969576129,
     "user": {
      "displayName": "오승혁",
      "photoUrl": "",
      "userId": "17576348803238599032"
     },
     "user_tz": -540
    },
    "id": "jE3niAxiEPCu",
    "outputId": "e310e5f3-74db-4080-fd3a-7ed42e619197"
   },
   "outputs": [
    {
     "name": "stdout",
     "output_type": "stream",
     "text": [
      "5\n"
     ]
    },
    {
     "data": {
      "image/png": "[encoded data removed]",
      "text/plain": [
       "<Figure size 432x288 with 2 Axes>"
      ]
     },
     "metadata": {
      "needs_background": "light"
     },
     "output_type": "display_data"
    }
   ],
   "source": [
    "print(y_train[0])\n",
    "fig = plt.figure()\n",
    "plt.imshow(x_train[0, :, :, 0], cmap='gray_r')\n",
    "plt.colorbar()\n",
    "fig.savefig('sample', dpi=300)"
   ]
  },
  {
   "cell_type": "markdown",
   "metadata": {
    "colab": {
     "base_uri": "https://localhost:8080/",
     "height": 35
    },
    "colab_type": "code",
    "executionInfo": {
     "elapsed": 3186,
     "status": "ok",
     "timestamp": 1594969576130,
     "user": {
      "displayName": "오승혁",
      "photoUrl": "",
      "userId": "17576348803238599032"
     },
     "user_tz": -540
    },
    "id": "1TOeQilXEPCw",
    "outputId": "52a80e5b-2942-4b98-ce5f-bfc6a2b7f6dc"
   },
   "source": [
    "# Fully Connected Layer Only"
   ]
  },
  {
   "cell_type": "code",
   "execution_count": null,
   "metadata": {},
   "outputs": [],
   "source": [
    "# fully-connected\n",
    "\n",
    "fc_model = models.Sequential()\n",
    "\n",
    "fc_model.add(layers.Flatten(input_shape=(width,height,1)))\n",
    "fc_model.add(layers.Dense(64, activation='relu'))\n",
    "fc_model.add(layers.Dense(10, activation='softmax'))"
   ]
  },
  {
   "cell_type": "code",
   "execution_count": null,
   "metadata": {},
   "outputs": [],
   "source": [
    "fc_model.compile(optimizer='adam',\n",
    "              loss='sparse_categorical_crossentropy',\n",
    "              metrics=['accuracy'])\n",
    "\n",
    "fc_history = fc_model.fit(x_train, y_train, steps_per_epoch=500,\n",
    "                        validation_data=(x_test, y_test), \n",
    "                        epochs=50, batch_size=5)"
   ]
  },
  {
   "cell_type": "markdown",
   "metadata": {},
   "source": [
    "# Convolutional Layer"
   ]
  },
  {
   "cell_type": "code",
   "execution_count": 15,
   "metadata": {
    "colab": {},
    "colab_type": "code",
    "executionInfo": {
     "elapsed": 1200,
     "status": "ok",
     "timestamp": 1594971558074,
     "user": {
      "displayName": "오승혁",
      "photoUrl": "",
      "userId": "17576348803238599032"
     },
     "user_tz": -540
    },
    "id": "eMVX5OOQEPCy"
   },
   "outputs": [],
   "source": [
    "width = np.shape(x_train)[1]\n",
    "height = np.shape(x_train)[2]\n",
    "\n",
    "cnn_model = models.Sequential()\n",
    "\n",
    "cnn_model.add(layers.Conv2D(8, (2, 2), activation='relu', input_shape=(width, height, 1)))\n",
    "#model.add(layers.MaxPooling2D((2, 2)))\n",
    "#model.add(layers.Conv2D(16, (2, 2), activation='relu'))\n",
    "\n",
    "cnn_model.add(layers.Flatten())\n",
    "cnn_model.add(layers.Dense(32, activation='relu'))\n",
    "cnn_model.add(layers.Dense(10, activation='softmax'))"
   ]
  },
  {
   "cell_type": "code",
   "execution_count": 16,
   "metadata": {
    "colab": {
     "base_uri": "https://localhost:8080/",
     "height": 305
    },
    "colab_type": "code",
    "executionInfo": {
     "elapsed": 917,
     "status": "ok",
     "timestamp": 1594971558076,
     "user": {
      "displayName": "오승혁",
      "photoUrl": "",
      "userId": "17576348803238599032"
     },
     "user_tz": -540
    },
    "id": "4YieE0zaEPC0",
    "outputId": "8ac1e269-2e43-458b-ccd8-63f0c632f66d"
   },
   "outputs": [
    {
     "name": "stdout",
     "output_type": "stream",
     "text": [
      "Model: \"sequential_1\"\n",
      "_________________________________________________________________\n",
      "Layer (type)                 Output Shape              Param #   \n",
      "=================================================================\n",
      "conv2d_1 (Conv2D)            (None, 9, 9, 8)           40        \n",
      "_________________________________________________________________\n",
      "flatten_1 (Flatten)          (None, 648)               0         \n",
      "_________________________________________________________________\n",
      "dense_2 (Dense)              (None, 32)                20768     \n",
      "_________________________________________________________________\n",
      "dense_3 (Dense)              (None, 10)                330       \n",
      "=================================================================\n",
      "Total params: 21,138\n",
      "Trainable params: 21,138\n",
      "Non-trainable params: 0\n",
      "_________________________________________________________________\n"
     ]
    }
   ],
   "source": [
    "cnn_model.summary()"
   ]
  },
  {
   "cell_type": "code",
   "execution_count": 17,
   "metadata": {
    "colab": {
     "base_uri": "https://localhost:8080/",
     "height": 1000
    },
    "colab_type": "code",
    "executionInfo": {
     "elapsed": 61419,
     "status": "ok",
     "timestamp": 1594971626644,
     "user": {
      "displayName": "오승혁",
      "photoUrl": "",
      "userId": "17576348803238599032"
     },
     "user_tz": -540
    },
    "id": "cnGpap70EPC2",
    "outputId": "4f21ca01-5430-4504-9d4c-fb24df3c6e99",
    "scrolled": true
   },
   "outputs": [
    {
     "name": "stdout",
     "output_type": "stream",
     "text": [
      "Train on 60000 samples, validate on 10000 samples\n",
      "Epoch 1/10\n",
      " 2500/60000 [>.............................] - ETA: 33s - loss: 1.0710 - accuracy: 0.7024 - val_loss: 0.5225 - val_accuracy: 0.8489Epoch 2/10\n",
      " 2500/60000 [>.............................] - ETA: 28s - loss: 0.4871 - accuracy: 0.8560 - val_loss: 0.3951 - val_accuracy: 0.8839Epoch 3/10\n",
      " 2500/60000 [>.............................] - ETA: 28s - loss: 0.4103 - accuracy: 0.8760 - val_loss: 0.3662 - val_accuracy: 0.8930Epoch 4/10\n",
      " 2500/60000 [>.............................] - ETA: 27s - loss: 0.4019 - accuracy: 0.8828 - val_loss: 0.3164 - val_accuracy: 0.9047Epoch 5/10\n",
      " 2500/60000 [>.............................] - ETA: 28s - loss: 0.3457 - accuracy: 0.8912 - val_loss: 0.3007 - val_accuracy: 0.9127Epoch 6/10\n",
      " 2500/60000 [>.............................] - ETA: 28s - loss: 0.2885 - accuracy: 0.9116 - val_loss: 0.2746 - val_accuracy: 0.9187Epoch 7/10\n",
      " 2500/60000 [>.............................] - ETA: 28s - loss: 0.3259 - accuracy: 0.9040 - val_loss: 0.2440 - val_accuracy: 0.9288Epoch 8/10\n",
      " 2500/60000 [>.............................] - ETA: 27s - loss: 0.2592 - accuracy: 0.9228 - val_loss: 0.2478 - val_accuracy: 0.9266Epoch 9/10\n",
      " 2500/60000 [>.............................] - ETA: 28s - loss: 0.2576 - accuracy: 0.9260 - val_loss: 0.2274 - val_accuracy: 0.9309Epoch 10/10\n",
      " 2500/60000 [>.............................] - ETA: 28s - loss: 0.2232 - accuracy: 0.9284 - val_loss: 0.2283 - val_accuracy: 0.9289"
     ]
    }
   ],
   "source": [
    "cnn_model.compile(optimizer=tf.optimizers.Adam(),\n",
    "              loss='sparse_categorical_crossentropy',\n",
    "              metrics=['accuracy'])\n",
    "\n",
    "cnn_history = cnn_model.fit(x_train, y_train, steps_per_epoch=500,\n",
    "                        validation_data=(x_test, y_test), \n",
    "                        epochs=10, batch_size=5)"
   ]
  },
  {
   "cell_type": "code",
   "execution_count": 18,
   "metadata": {
    "colab": {
     "base_uri": "https://localhost:8080/",
     "height": 35
    },
    "colab_type": "code",
    "executionInfo": {
     "elapsed": 1462,
     "status": "ok",
     "timestamp": 1594971634260,
     "user": {
      "displayName": "오승혁",
      "photoUrl": "",
      "userId": "17576348803238599032"
     },
     "user_tz": -540
    },
    "id": "8eKXWRjOEPC4",
    "outputId": "9be50887-154e-4129-9952-0922ba5f42a7"
   },
   "outputs": [
    {
     "name": "stdout",
     "output_type": "stream",
     "text": [
      "10000/10000 - 0s - loss: 0.2283 - accuracy: 0.9289\n"
     ]
    }
   ],
   "source": [
    "test_loss, test_acc = cnn_model.evaluate(x_test, y_test, verbose=2)"
   ]
  },
  {
   "cell_type": "markdown",
   "metadata": {
    "colab_type": "text",
    "id": "u4oNotFgEPC5"
   },
   "source": [
    "# Make Quantum Convolution Layer"
   ]
  },
  {
   "cell_type": "code",
   "execution_count": 23,
   "metadata": {
    "colab": {},
    "colab_type": "code",
    "executionInfo": {
     "elapsed": 1212,
     "status": "ok",
     "timestamp": 1594977131092,
     "user": {
      "displayName": "오승혁",
      "photoUrl": "",
      "userId": "17576348803238599032"
     },
     "user_tz": -540
    },
    "id": "dmnXSyM5EPC6"
   },
   "outputs": [],
   "source": [
    "class QConv(tf.keras.layers.Layer):\n",
    "    def __init__(self, filter_size, depth, activation=None, name=None, kernel_regularizer=None, **kwangs):\n",
    "        super(QConv, self).__init__(name=name, **kwangs)\n",
    "        self.filter_size = filter_size\n",
    "        self.depth = depth\n",
    "        self.learning_params = []\n",
    "        self.QCNN_layer_gen()\n",
    "        # self.circuit_tensor = tfq.convert_to_tensor([self.circuit])\n",
    "        self.activation = tf.keras.layers.Activation(activation)\n",
    "        self.kernel_regularizer = kernel_regularizer\n",
    "\n",
    "    def _next_qubit_set(self, original_size, next_size, qubits):\n",
    "        step = original_size // next_size\n",
    "        qubit_list = []\n",
    "        for i in range(0, original_size, step):\n",
    "            for j in range(0, original_size, step):\n",
    "                qubit_list.append(qubits[original_size*i + j])\n",
    "        return qubit_list\n",
    "\n",
    "    def _get_new_param(self):\n",
    "        \"\"\"\n",
    "        return new learnable parameter\n",
    "        all returned parameter saved in self.learning_params\n",
    "        \"\"\"\n",
    "        new_param = sympy.symbols(\"p\"+str(len(self.learning_params)))\n",
    "        self.learning_params.append(new_param)\n",
    "        return new_param\n",
    "    \n",
    "    def _QConv(self, grid_size, qubits):\n",
    "        for i in range(grid_size):\n",
    "            for j in range(grid_size//2):\n",
    "                yield cirq.CZPowGate(exponent=self._get_new_param(), global_shift=-0.5)(\n",
    "                    qubits[grid_size*i+2*j+1], qubits[grid_size*i+2*j])\n",
    "                yield cirq.CXPowGate(exponent=self._get_new_param(), global_shift=-0.5)(\n",
    "                    qubits[grid_size*i+2*j+1], qubits[grid_size*i+2*j])\n",
    "        for i in range(0, grid_size, 2):\n",
    "            for j in range(grid_size//2):\n",
    "                yield cirq.CZPowGate(exponent=self._get_new_param(), global_shift=-0.5)(\n",
    "                    qubits[i+2*grid_size*j+grid_size], qubits[i+2*grid_size*j])\n",
    "                yield cirq.CXPowGate(exponent=self._get_new_param(), global_shift=-0.5)(\n",
    "                    qubits[i+2*grid_size*j+grid_size], qubits[i+2*grid_size*j])\n",
    "\n",
    "    \n",
    "    def QCNN_layer_gen(self):\n",
    "        \"\"\"\n",
    "        make quantum convolutional layer in QConv layer\n",
    "        \n",
    "        \"\"\"\n",
    "        cirq_qubits = cirq.GridQubit.rect(self.filter_size, self.filter_size)\n",
    "        QCNN_circuit = cirq.Circuit()\n",
    "\n",
    "        size_set = []\n",
    "        next_size = self.filter_size\n",
    "        while(True):\n",
    "            if next_size == 1:\n",
    "                break\n",
    "            size_set.append(next_size)\n",
    "            next_size //= 2\n",
    "        area_set = [size*size for size in size_set]\n",
    "        input_params = [sympy.symbols('a%d' %i) for i in range(self.filter_size*self.filter_size)]\n",
    "\n",
    "        input_circuit = cirq.Circuit()\n",
    "        for i, qubit in enumerate(cirq_qubits):\n",
    "            input_circuit.append(cirq.rx(np.pi*input_params[i])(qubit))\n",
    "\n",
    "        for i, next_size in enumerate(size_set):\n",
    "            next_qubits = self._next_qubit_set(self.filter_size, next_size, cirq_qubits)\n",
    "            QCNN_circuit.append(self._QConv(next_size, next_qubits))\n",
    "\n",
    "        full_circuit = cirq.Circuit()\n",
    "        full_circuit.append(input_circuit)\n",
    "        full_circuit.append(QCNN_circuit)\n",
    "\n",
    "        self.circuit = full_circuit\n",
    "        self.params = input_params + self.learning_params\n",
    "        self.op = cirq.Z(cirq_qubits[0])\n",
    "        \n",
    "    def build(self, input_shape):\n",
    "        self.width = input_shape[1]\n",
    "        self.height = input_shape[2]\n",
    "        self.channel = input_shape[3]\n",
    "        self.num_x = self.width - self.filter_size + 1\n",
    "        self.num_y = self.height - self.filter_size + 1\n",
    "        \n",
    "        self.kernel = self.add_weight(name=\"kenel\", \n",
    "                                      shape=[self.depth, \n",
    "                                             self.channel, \n",
    "                                             len(self.learning_params)],\n",
    "                                     initializer=tf.keras.initializers.glorot_normal(),\n",
    "                                     regularizer=self.kernel_regularizer)\n",
    "        self.circuit_tensor = tfq.convert_to_tensor([self.circuit] * self.num_x * self.num_y * self.channel)\n",
    "        \n",
    "    def call(self, inputs):\n",
    "        # input shape: [N, width, height, channel]\n",
    "        # slide and collect data\n",
    "        stack_set = None\n",
    "        for i in range(self.num_x):\n",
    "            for j in range(self.num_y):\n",
    "                slice_part = tf.slice(inputs, [0, i, j, 0], [-1, self.filter_size, self.filter_size, -1])\n",
    "                slice_part = tf.reshape(slice_part, shape=[-1, 1, self.filter_size, self.filter_size, self.channel])\n",
    "                if stack_set == None:\n",
    "                    stack_set = slice_part\n",
    "                else:\n",
    "                    stack_set = tf.concat([stack_set, slice_part], 1)  \n",
    "        # -> shape: [N, num_x*num_y, filter_size, filter_size, channel]\n",
    "        stack_set = tf.transpose(stack_set, perm=[0, 1, 4, 2, 3])\n",
    "        # -> shape: [N, num_x*num_y, channel, filter_size, fiter_size]\n",
    "        stack_set = tf.reshape(stack_set, shape=[-1, self.filter_size**2])\n",
    "        # -> shape: [N*num_x*num_y*channel, filter_size^2]\n",
    "        \n",
    "        # total input citcuits: N * num_x * num_y * channel\n",
    "        circuit_inputs = tf.tile([self.circuit_tensor], [tf.shape(inputs)[0], 1])\n",
    "        circuit_inputs = tf.reshape(circuit_inputs, shape=[-1])\n",
    "        tf.fill([tf.shape(inputs)[0]*self.num_x*self.num_y, 1], 1)\n",
    "        outputs = []\n",
    "        for i in range(self.depth):\n",
    "            controller = tf.tile(self.kernel[i], [tf.shape(inputs)[0]*self.num_x*self.num_y, 1])\n",
    "            outputs.append(self.single_depth_QCNN(stack_set, controller, circuit_inputs))\n",
    "            # shape: [N, num_x, num_y] \n",
    "            \n",
    "        output_tensor = tf.stack(outputs, axis=3)\n",
    "        output_tensor = tf.math.acos(tf.clip_by_value(output_tensor, -1+1e-5, 1-1e-5)) / np.pi\n",
    "        # output_tensor = tf.clip_by_value(tf.math.acos(output_tensor)/np.pi, -1, 1)\n",
    "        return self.activation(output_tensor)\n",
    "          \n",
    "    def single_depth_QCNN(self, input_data, controller, circuit_inputs):\n",
    "        \"\"\"\n",
    "        make QCNN for 1 channel only\n",
    "        \"\"\"\n",
    "        # input shape: [N*num_x*num_y*channel, filter_size^2]\n",
    "        # controller shape: [N*num_x*num_y*channel, len(learning_params)]\n",
    "        input_data = tf.concat([input_data, controller], 1)\n",
    "        # input_data shape: [N*num_x*num_y*channel, len(learning_params)]\n",
    "        QCNN_output = tfq.layers.Expectation()(circuit_inputs, \n",
    "                                               symbol_names=self.params,\n",
    "                                               symbol_values=input_data,\n",
    "                                               operators=self.op)\n",
    "        # QCNN_output shape: [N*num_x*num_y*channel]\n",
    "        QCNN_output = tf.reshape(QCNN_output, shape=[-1, self.num_x, self.num_y, self.channel])\n",
    "        return tf.math.reduce_sum(QCNN_output, 3)\n",
    "        "
   ]
  },
  {
   "cell_type": "code",
   "execution_count": 24,
   "metadata": {
    "colab": {},
    "colab_type": "code",
    "executionInfo": {
     "elapsed": 1249,
     "status": "ok",
     "timestamp": 1594977593117,
     "user": {
      "displayName": "오승혁",
      "photoUrl": "",
      "userId": "17576348803238599032"
     },
     "user_tz": -540
    },
    "id": "j4_hQbAXEPC8"
   },
   "outputs": [],
   "source": [
    "width = np.shape(x_train)[1]\n",
    "height = np.shape(x_train)[2]\n",
    "\n",
    "qcnn_model = models.Sequential()\n",
    "\n",
    "\n",
    "qcnn_model.add(QConv(filter_size=2, depth=8, activation='relu', name='qconv1', input_shape=(width, height, 1), \n",
    "                     kernel_regularizer=tf.keras.regularizers.l2(0.3)))\n",
    "#model.add(layers.Conv2D(16, (2, 2), activation='relu'))\n",
    "qcnn_model.add(layers.Flatten())\n",
    "qcnn_model.add(layers.Dense(32, activation='relu'))\n",
    "qcnn_model.add(layers.Dense(10, activation='softmax'))\n"
   ]
  },
  {
   "cell_type": "code",
   "execution_count": 25,
   "metadata": {
    "colab": {
     "base_uri": "https://localhost:8080/",
     "height": 341
    },
    "colab_type": "code",
    "executionInfo": {
     "elapsed": 920,
     "status": "ok",
     "timestamp": 1594977593120,
     "user": {
      "displayName": "오승혁",
      "photoUrl": "",
      "userId": "17576348803238599032"
     },
     "user_tz": -540
    },
    "id": "89ttC7n9EPC9",
    "outputId": "84bcfda8-4b27-49a4-8216-6148d8893cf7"
   },
   "outputs": [
    {
     "name": "stdout",
     "output_type": "stream",
     "text": [
      "Model: \"sequential_3\"\n",
      "_________________________________________________________________\n",
      "Layer (type)                 Output Shape              Param #   \n",
      "=================================================================\n",
      "qconv1 (QConv)               (None, 9, 9, 8)           48        \n",
      "_________________________________________________________________\n",
      "flatten_3 (Flatten)          (None, 648)               0         \n",
      "_________________________________________________________________\n",
      "dense_6 (Dense)              (None, 32)                20768     \n",
      "_________________________________________________________________\n",
      "dense_7 (Dense)              (None, 10)                330       \n",
      "=================================================================\n",
      "Total params: 21,146\n",
      "Trainable params: 21,146\n",
      "Non-trainable params: 0\n",
      "_________________________________________________________________\n"
     ]
    }
   ],
   "source": [
    "qcnn_model.summary()"
   ]
  },
  {
   "cell_type": "code",
   "execution_count": 26,
   "metadata": {
    "colab": {
     "base_uri": "https://localhost:8080/",
     "height": 220
    },
    "colab_type": "code",
    "executionInfo": {
     "elapsed": 987,
     "status": "ok",
     "timestamp": 1594977593562,
     "user": {
      "displayName": "오승혁",
      "photoUrl": "",
      "userId": "17576348803238599032"
     },
     "user_tz": -540
    },
    "id": "IMjGoNGiEPC_",
    "outputId": "f49fc139-aa8b-4dff-fa0c-b94ec9c1537a",
    "scrolled": false
   },
   "outputs": [
    {
     "data": {
      "image/svg+xml": [
       "<svg xmlns=\"http://www.w3.org/2000/svg\" width=\"560.8589843750001\" height=\"200.0\"><line x1=\"32.246796875\" x2=\"530.8589843750001\" y1=\"25.0\" y2=\"25.0\" stroke=\"#1967d2\" stroke-width=\"1\" /><line x1=\"32.246796875\" x2=\"530.8589843750001\" y1=\"75.0\" y2=\"75.0\" stroke=\"#1967d2\" stroke-width=\"1\" /><line x1=\"32.246796875\" x2=\"530.8589843750001\" y1=\"125.0\" y2=\"125.0\" stroke=\"#1967d2\" stroke-width=\"1\" /><line x1=\"32.246796875\" x2=\"530.8589843750001\" y1=\"175.0\" y2=\"175.0\" stroke=\"#1967d2\" stroke-width=\"1\" /><line x1=\"293.48626953125006\" x2=\"293.48626953125006\" y1=\"25.0\" y2=\"75.0\" stroke=\"black\" stroke-width=\"3\" /><line x1=\"293.48626953125006\" x2=\"293.48626953125006\" y1=\"125.0\" y2=\"175.0\" stroke=\"black\" stroke-width=\"3\" /><line x1=\"358.42802734375005\" x2=\"358.42802734375005\" y1=\"25.0\" y2=\"75.0\" stroke=\"black\" stroke-width=\"3\" /><line x1=\"358.42802734375005\" x2=\"358.42802734375005\" y1=\"125.0\" y2=\"175.0\" stroke=\"black\" stroke-width=\"3\" /><line x1=\"423.36650390625005\" x2=\"423.36650390625005\" y1=\"25.0\" y2=\"125.0\" stroke=\"black\" stroke-width=\"3\" /><line x1=\"488.34216796875\" x2=\"488.34216796875\" y1=\"25.0\" y2=\"125.0\" stroke=\"black\" stroke-width=\"3\" /><rect x=\"10.0\" y=\"5.0\" width=\"44.49359375\" height=\"40\" stroke=\"black\" fill=\"white\" stroke-width=\"0\" /><text x=\"32.246796875\" y=\"25.0\" dominant-baseline=\"middle\" text-anchor=\"middle\" font-size=\"14px\">(0, 0): </text><rect x=\"10.0\" y=\"55.0\" width=\"44.49359375\" height=\"40\" stroke=\"black\" fill=\"white\" stroke-width=\"0\" /><text x=\"32.246796875\" y=\"75.0\" dominant-baseline=\"middle\" text-anchor=\"middle\" font-size=\"14px\">(0, 1): </text><rect x=\"10.0\" y=\"105.0\" width=\"44.49359375\" height=\"40\" stroke=\"black\" fill=\"white\" stroke-width=\"0\" /><text x=\"32.246796875\" y=\"125.0\" dominant-baseline=\"middle\" text-anchor=\"middle\" font-size=\"14px\">(1, 0): </text><rect x=\"10.0\" y=\"155.0\" width=\"44.49359375\" height=\"40\" stroke=\"black\" fill=\"white\" stroke-width=\"0\" /><text x=\"32.246796875\" y=\"175.0\" dominant-baseline=\"middle\" text-anchor=\"middle\" font-size=\"14px\">(1, 1): </text><rect x=\"74.49359375\" y=\"5.0\" width=\"176.53054687500003\" height=\"40\" stroke=\"black\" fill=\"white\" stroke-width=\"1\" /><text x=\"162.75886718750002\" y=\"25.0\" dominant-baseline=\"middle\" text-anchor=\"middle\" font-size=\"14px\">Rx(3.14159265358979*a0)</text><rect x=\"74.49359375\" y=\"55.0\" width=\"176.53054687500003\" height=\"40\" stroke=\"black\" fill=\"white\" stroke-width=\"1\" /><text x=\"162.75886718750002\" y=\"75.0\" dominant-baseline=\"middle\" text-anchor=\"middle\" font-size=\"14px\">Rx(3.14159265358979*a1)</text><rect x=\"74.49359375\" y=\"105.0\" width=\"176.53054687500003\" height=\"40\" stroke=\"black\" fill=\"white\" stroke-width=\"1\" /><text x=\"162.75886718750002\" y=\"125.0\" dominant-baseline=\"middle\" text-anchor=\"middle\" font-size=\"14px\">Rx(3.14159265358979*a2)</text><rect x=\"74.49359375\" y=\"155.0\" width=\"176.53054687500003\" height=\"40\" stroke=\"black\" fill=\"white\" stroke-width=\"1\" /><text x=\"162.75886718750002\" y=\"175.0\" dominant-baseline=\"middle\" text-anchor=\"middle\" font-size=\"14px\">Rx(3.14159265358979*a3)</text><rect x=\"271.0241406250001\" y=\"55.0\" width=\"44.9242578125\" height=\"40\" stroke=\"black\" fill=\"white\" stroke-width=\"1\" /><text x=\"293.48626953125006\" y=\"75.0\" dominant-baseline=\"middle\" text-anchor=\"middle\" font-size=\"14px\">@^p0</text><circle cx=\"293.48626953125006\" cy=\"25.0\" r=\"10.0\" /><rect x=\"271.0241406250001\" y=\"155.0\" width=\"44.9242578125\" height=\"40\" stroke=\"black\" fill=\"white\" stroke-width=\"1\" /><text x=\"293.48626953125006\" y=\"175.0\" dominant-baseline=\"middle\" text-anchor=\"middle\" font-size=\"14px\">@^p2</text><circle cx=\"293.48626953125006\" cy=\"125.0\" r=\"10.0\" /><rect x=\"335.94839843750003\" y=\"55.0\" width=\"44.9592578125\" height=\"40\" stroke=\"black\" fill=\"white\" stroke-width=\"1\" /><text x=\"358.42802734375005\" y=\"75.0\" dominant-baseline=\"middle\" text-anchor=\"middle\" font-size=\"14px\">@^p1</text><rect x=\"335.94839843750003\" y=\"5.0\" width=\"44.9592578125\" height=\"40\" stroke=\"black\" fill=\"white\" stroke-width=\"1\" /><text x=\"358.42802734375005\" y=\"25.0\" dominant-baseline=\"middle\" text-anchor=\"middle\" font-size=\"18px\">X</text><rect x=\"335.94839843750003\" y=\"155.0\" width=\"44.9592578125\" height=\"40\" stroke=\"black\" fill=\"white\" stroke-width=\"1\" /><text x=\"358.42802734375005\" y=\"175.0\" dominant-baseline=\"middle\" text-anchor=\"middle\" font-size=\"14px\">@^p3</text><rect x=\"335.94839843750003\" y=\"105.0\" width=\"44.9592578125\" height=\"40\" stroke=\"black\" fill=\"white\" stroke-width=\"1\" /><text x=\"358.42802734375005\" y=\"125.0\" dominant-baseline=\"middle\" text-anchor=\"middle\" font-size=\"18px\">X</text><rect x=\"400.90765625000006\" y=\"105.0\" width=\"44.9176953125\" height=\"40\" stroke=\"black\" fill=\"white\" stroke-width=\"1\" /><text x=\"423.36650390625005\" y=\"125.0\" dominant-baseline=\"middle\" text-anchor=\"middle\" font-size=\"14px\">@^p4</text><circle cx=\"423.36650390625005\" cy=\"25.0\" r=\"10.0\" /><rect x=\"465.82535156250003\" y=\"105.0\" width=\"45.0336328125\" height=\"40\" stroke=\"black\" fill=\"white\" stroke-width=\"1\" /><text x=\"488.34216796875\" y=\"125.0\" dominant-baseline=\"middle\" text-anchor=\"middle\" font-size=\"14px\">@^p5</text><rect x=\"465.82535156250003\" y=\"5.0\" width=\"45.0336328125\" height=\"40\" stroke=\"black\" fill=\"white\" stroke-width=\"1\" /><text x=\"488.34216796875\" y=\"25.0\" dominant-baseline=\"middle\" text-anchor=\"middle\" font-size=\"18px\">X</text></svg>"
      ],
      "text/plain": [
       "<cirq.contrib.svg.svg.SVGCircuit at 0x20521f73988>"
      ]
     },
     "execution_count": 26,
     "metadata": {},
     "output_type": "execute_result"
    }
   ],
   "source": [
    "SVGCircuit(QConv(filter_size=2, depth=0, activation='relu').circuit)"
   ]
  },
  {
   "cell_type": "code",
   "execution_count": 27,
   "metadata": {
    "colab": {
     "base_uri": "https://localhost:8080/",
     "height": 533
    },
    "colab_type": "code",
    "executionInfo": {
     "elapsed": 1492,
     "status": "ok",
     "timestamp": 1594977594367,
     "user": {
      "displayName": "오승혁",
      "photoUrl": "",
      "userId": "17576348803238599032"
     },
     "user_tz": -540
    },
    "id": "a_v5xWKfEPDB",
    "outputId": "461769fe-d978-4cc6-a6ed-0c207eca1eae",
    "scrolled": false
   },
   "outputs": [
    {
     "data": {
      "image/png": "[encoded data removed]",
      "text/plain": [
       "<IPython.core.display.Image object>"
      ]
     },
     "execution_count": 27,
     "metadata": {},
     "output_type": "execute_result"
    }
   ],
   "source": [
    "import pydot\n",
    "import graphviz\n",
    "from tensorflow.keras.utils import plot_model\n",
    "\n",
    "plot_model(qcnn_model, to_file='model_shapes.png', show_shapes=True)"
   ]
  },
  {
   "cell_type": "code",
   "execution_count": 28,
   "metadata": {
    "colab": {
     "base_uri": "https://localhost:8080/",
     "height": 89
    },
    "colab_type": "code",
    "id": "JhRWSq6UEPDC",
    "outputId": "b605295c-c38d-4fb2-b21a-6e83de8cc99c",
    "scrolled": true
   },
   "outputs": [
    {
     "name": "stdout",
     "output_type": "stream",
     "text": [
      "Train on 60000 samples, validate on 10000 samples\n",
      "Epoch 1/10\n",
      " 2500/60000 [>.............................] - ETA: 1:33:52 - loss: 1.1014 - accuracy: 0.7216 - val_loss: 0.5672 - val_accuracy: 0.8409Epoch 2/10\n",
      " 2500/60000 [>.............................] - ETA: 1:47:27 - loss: 0.5016 - accuracy: 0.8532 - val_loss: 0.4406 - val_accuracy: 0.8738Epoch 3/10\n",
      " 2500/60000 [>.............................] - ETA: 2:09:51 - loss: 0.4553 - accuracy: 0.8672 - val_loss: 0.4025 - val_accuracy: 0.8853Epoch 4/10\n",
      " 2500/60000 [>.............................] - ETA: 2:34:53 - loss: 0.4099 - accuracy: 0.8724 - val_loss: 0.3688 - val_accuracy: 0.8895Epoch 5/10\n",
      " 2500/60000 [>.............................] - ETA: 3:04:53 - loss: 0.4170 - accuracy: 0.8780 - val_loss: 0.3487 - val_accuracy: 0.8945Epoch 6/10\n",
      " 2500/60000 [>.............................] - ETA: 3:37:22 - loss: 0.3437 - accuracy: 0.8980 - val_loss: 0.3361 - val_accuracy: 0.9020Epoch 7/10\n",
      " 2500/60000 [>.............................] - ETA: 3:44:45 - loss: 0.3383 - accuracy: 0.9000 - val_loss: 0.3509 - val_accuracy: 0.8952Epoch 8/10\n",
      " 2500/60000 [>.............................] - ETA: 3:39:14 - loss: 0.3840 - accuracy: 0.8816 - val_loss: 0.3175 - val_accuracy: 0.9073Epoch 9/10\n",
      " 2500/60000 [>.............................] - ETA: 3:36:06 - loss: 0.3235 - accuracy: 0.9016 - val_loss: 0.2982 - val_accuracy: 0.9128Epoch 10/10\n",
      " 2500/60000 [>.............................] - ETA: 3:50:52 - loss: 0.3159 - accuracy: 0.9000 - val_loss: 0.2958 - val_accuracy: 0.9109"
     ]
    }
   ],
   "source": [
    "qcnn_model.compile(optimizer=tf.keras.optimizers.Adam(),\n",
    "              loss='sparse_categorical_crossentropy',\n",
    "              metrics=['accuracy'])\n",
    "\n",
    "qcnn_history = qcnn_model.fit(x_train, y_train, steps_per_epoch=500,\n",
    "                        validation_data=(x_test, y_test), \n",
    "                        epochs=10, batch_size=5)"
   ]
  },
  {
   "cell_type": "code",
   "execution_count": 46,
   "metadata": {
    "colab": {},
    "colab_type": "code",
    "id": "oSjNaowxEPDE",
    "outputId": "fe340c9f-c64a-4590-c569-7499f326b999"
   },
   "outputs": [
    {
     "name": "stdout",
     "output_type": "stream",
     "text": [
      "10000/10000 - 35s - loss: 0.4186 - accuracy: 0.8702\n"
     ]
    }
   ],
   "source": [
    "test_loss, test_acc = qcnn_model.evaluate(x_test, y_test, verbose=2)"
   ]
  },
  {
   "cell_type": "code",
   "execution_count": 47,
   "metadata": {
    "scrolled": true
   },
   "outputs": [
    {
     "data": {
      "image/png": "[encoded data removed]",
      "text/plain": [
       "<Figure size 432x288 with 1 Axes>"
      ]
     },
     "metadata": {
      "needs_background": "light"
     },
     "output_type": "display_data"
    },
    {
     "data": {
      "image/png": "[encoded data removed]",
      "text/plain": [
       "<Figure size 432x288 with 1 Axes>"
      ]
     },
     "metadata": {
      "needs_background": "light"
     },
     "output_type": "display_data"
    },
    {
     "data": {
      "image/png": "[encoded data removed]",
      "text/plain": [
       "<Figure size 432x288 with 1 Axes>"
      ]
     },
     "metadata": {
      "needs_background": "light"
     },
     "output_type": "display_data"
    },
    {
     "data": {
      "image/png": "[encoded data removed]",
      "text/plain": [
       "<Figure size 432x288 with 1 Axes>"
      ]
     },
     "metadata": {
      "needs_background": "light"
     },
     "output_type": "display_data"
    },
    {
     "data": {
      "image/png": "[encoded data removed]",
      "text/plain": [
       "<Figure size 432x288 with 1 Axes>"
      ]
     },
     "metadata": {
      "needs_background": "light"
     },
     "output_type": "display_data"
    },
    {
     "data": {
      "image/png": "[encoded data removed]",
      "text/plain": [
       "<Figure size 432x288 with 1 Axes>"
      ]
     },
     "metadata": {
      "needs_background": "light"
     },
     "output_type": "display_data"
    },
    {
     "data": {
      "image/png": "[encoded data removed]",
      "text/plain": [
       "<Figure size 432x288 with 1 Axes>"
      ]
     },
     "metadata": {
      "needs_background": "light"
     },
     "output_type": "display_data"
    },
    {
     "data": {
      "image/png": "[encoded data removed]",
      "text/plain": [
       "<Figure size 432x288 with 1 Axes>"
      ]
     },
     "metadata": {
      "needs_background": "light"
     },
     "output_type": "display_data"
    }
   ],
   "source": [
    "for i in range(8):\n",
    "    fig = plt.figure()\n",
    "    plt.axis('off')\n",
    "    plt.imshow(qcnn_model.get_layer('qconv1')(x_train[0:1,:,:,:])[0,:,:,i], cmap='gray_r')\n",
    "    fig.savefig('qcnn_%d'%i, dpi=300, bbox_inches='tight')"
   ]
  },
  {
   "cell_type": "markdown",
   "metadata": {},
   "source": [
    "# Comparing Result"
   ]
  },
  {
   "cell_type": "code",
   "execution_count": 68,
   "metadata": {},
   "outputs": [],
   "source": [
    "def plot_loss_curves(fc_loss, cnn_loss, qcnn_loss):\n",
    "    fig = plt.figure()\n",
    "    plt.plot(np.arange(len(fc_loss)) + 1, fc_loss, \"go-\", label=\"fully-connected\")\n",
    "    plt.plot(np.arange(len(cnn_loss)) + 1, cnn_loss, \"rs-\", label=\"CNN\")\n",
    "    plt.plot(np.arange(len(qcnn_loss)) + 1, qcnn_loss, \"b^-\", label=\"QCNN\")\n",
    "    plt.gca().xaxis.set_major_locator(mpl.ticker.MaxNLocator(integer=True))\n",
    "    plt.axis([1, 50, 0, 1])\n",
    "    plt.legend(fontsize=14)\n",
    "    plt.xlabel(\"Epochs\")\n",
    "    plt.ylabel(\"Test set loss\")\n",
    "    plt.grid(True)\n",
    "    fig.savefig('loss.png', dpi=300)\n",
    "    \n",
    "def plot_loss_curves_small(fc_loss, cnn_loss, qcnn_loss):\n",
    "    fig = plt.figure()\n",
    "    plt.plot(np.arange(len(fc_loss))[::2] + 1, fc_loss[::2], \"go-\", label=\"fully-connected\")\n",
    "    plt.plot(np.arange(len(cnn_loss))[::2] + 1, cnn_loss[::2], \"rs-\", label=\"CNN\")\n",
    "    plt.plot(np.arange(len(qcnn_loss))[::2] + 1, qcnn_loss[::2], \"b^-\", label=\"QCNN\")\n",
    "    plt.gca().xaxis.set_major_locator(mpl.ticker.MaxNLocator(integer=True))\n",
    "    plt.axis([1, 50, 0, 1])\n",
    "    plt.legend(fontsize=14)\n",
    "    plt.xlabel(\"Epochs\")\n",
    "    plt.ylabel(\"Test set loss\")\n",
    "    plt.grid(True)\n",
    "    fig.savefig('loss_small.png', dpi=300)"
   ]
  },
  {
   "cell_type": "code",
   "execution_count": 69,
   "metadata": {},
   "outputs": [
    {
     "data": {
      "image/png": "[encoded data removed]",
      "text/plain": [
       "<Figure size 432x288 with 1 Axes>"
      ]
     },
     "metadata": {
      "needs_background": "light"
     },
     "output_type": "display_data"
    }
   ],
   "source": [
    "plot_loss_curves(fc_history.history['val_loss'], cnn_history.history['val_loss'], qcnn_history.history['val_loss'])"
   ]
  },
  {
   "cell_type": "code",
   "execution_count": 70,
   "metadata": {},
   "outputs": [
    {
     "data": {
      "image/png": "[encoded data removed]",
      "text/plain": [
       "<Figure size 432x288 with 1 Axes>"
      ]
     },
     "metadata": {
      "needs_background": "light"
     },
     "output_type": "display_data"
    }
   ],
   "source": [
    "plot_loss_curves_small(fc_history.history['val_loss'], cnn_history.history['val_loss'], qcnn_history.history['val_loss'])"
   ]
  },
  {
   "cell_type": "code",
   "execution_count": 76,
   "metadata": {},
   "outputs": [],
   "source": [
    "def plot_acc_curves(fc_acc, cnn_acc, qcnn_acc):\n",
    "    fig = plt.figure()\n",
    "    plt.plot(np.arange(len(fc_acc)) + 1, fc_acc, \"go-\", label=\"fully-connected\")\n",
    "    plt.plot(np.arange(len(cnn_acc)) + 1, cnn_acc, \"rs-\", label=\"CNN\")\n",
    "    plt.plot(np.arange(len(qcnn_acc)) + 1, qcnn_acc, \"b^-\", label=\"QCNN\")\n",
    "    plt.gca().xaxis.set_major_locator(mpl.ticker.MaxNLocator(integer=True))\n",
    "    plt.grid()\n",
    "    plt.axis([1, 50, 0.8, 1])\n",
    "    plt.legend(fontsize=14)\n",
    "    plt.xlabel(\"Epochs\")\n",
    "    plt.ylabel(\"Test set accuracy\")\n",
    "    fig.savefig('accuracy.png', dpi=300)\n",
    "    \n",
    "def plot_acc_curves_small(fc_acc, cnn_acc, qcnn_acc):\n",
    "    fig = plt.figure()\n",
    "    plt.plot(np.arange(len(fc_acc))[::2] + 1, fc_acc[::2], \"go-\", label=\"fully-connected\")\n",
    "    plt.plot(np.arange(len(cnn_acc))[::2] + 1, cnn_acc[::2], \"rs-\", label=\"CNN\")\n",
    "    plt.plot(np.arange(len(qcnn_acc))[::2] + 1, qcnn_acc[::2], \"b^-\", label=\"QCNN\")\n",
    "    plt.gca().xaxis.set_major_locator(mpl.ticker.MaxNLocator(integer=True))\n",
    "    plt.grid()\n",
    "    plt.axis([1, 50, 0.8, 1])\n",
    "    plt.legend(fontsize=14)\n",
    "    plt.xlabel(\"Epochs\")\n",
    "    plt.ylabel(\"Test set accuracy\")\n",
    "    fig.savefig('accuracy_small.png', dpi=300)"
   ]
  },
  {
   "cell_type": "code",
   "execution_count": 77,
   "metadata": {},
   "outputs": [
    {
     "data": {
      "image/png": "[encoded data removed]",
      "text/plain": [
       "<Figure size 432x288 with 1 Axes>"
      ]
     },
     "metadata": {
      "needs_background": "light"
     },
     "output_type": "display_data"
    }
   ],
   "source": [
    "plot_acc_curves(fc_history.history['val_accuracy'], cnn_history.history['val_accuracy'], qcnn_history.history['val_accuracy'])"
   ]
  },
  {
   "cell_type": "code",
   "execution_count": 78,
   "metadata": {},
   "outputs": [
    {
     "data": {
      "image/png": "[encoded data removed]",
      "text/plain": [
       "<Figure size 432x288 with 1 Axes>"
      ]
     },
     "metadata": {
      "needs_background": "light"
     },
     "output_type": "display_data"
    }
   ],
   "source": [
    "plot_acc_curves_small(fc_history.history['val_accuracy'], cnn_history.history['val_accuracy'], qcnn_history.history['val_accuracy'])"
   ]
  },
  {
   "cell_type": "code",
   "execution_count": null,
   "metadata": {},
   "outputs": [],
   "source": []
  }
 ],
 "metadata": {
  "accelerator": "GPU",
  "colab": {
   "name": "QCNN_MNIST-1.ipynb",
   "provenance": []
  },
  "kernelspec": {
   "display_name": "Python 3.7.6 64-bit ('tensorflow_env': conda)",
   "language": "python",
   "name": "python37664bittensorflowenvcondaa57c566be5fe43ca9377a66c88d86b6a"
  },
  "language_info": {
   "codemirror_mode": {
    "name": "ipython",
    "version": 3
   },
   "file_extension": ".py",
   "mimetype": "text/x-python",
   "name": "python",
   "nbconvert_exporter": "python",
   "pygments_lexer": "ipython3",
   "version": "3.7.6"
  }
 },
 "nbformat": 4,
 "nbformat_minor": 1
}
